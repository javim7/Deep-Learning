{
 "cells": [
  {
   "cell_type": "markdown",
   "metadata": {},
   "source": [
    "# Lab6: Sistemas de Recomendaciones de Libros\n",
    "## Sistema de recomendaciones basado en filtros colaborativos\n",
    "### Autor: Roberto Rios 20979\n",
    "### Autor: Javier Mombiela 20067"
   ]
  },
  {
   "cell_type": "code",
   "execution_count": 1,
   "metadata": {},
   "outputs": [
    {
     "ename": "ModuleNotFoundError",
     "evalue": "No module named 'scikit'",
     "output_type": "error",
     "traceback": [
      "\u001b[1;31m---------------------------------------------------------------------------\u001b[0m",
      "\u001b[1;31mModuleNotFoundError\u001b[0m                       Traceback (most recent call last)",
      "\u001b[1;32mc:\\Users\\rjmom\\OneDrive\\Documentos\\GitHub\\Deep-Learning\\Laboratorio6\\lab6-2.ipynb Cell 2\u001b[0m line \u001b[0;36m3\n\u001b[0;32m      <a href='vscode-notebook-cell:/c%3A/Users/rjmom/OneDrive/Documentos/GitHub/Deep-Learning/Laboratorio6/lab6-2.ipynb#W1sZmlsZQ%3D%3D?line=0'>1</a>\u001b[0m \u001b[39m# importar ibrerias\u001b[39;00m\n\u001b[0;32m      <a href='vscode-notebook-cell:/c%3A/Users/rjmom/OneDrive/Documentos/GitHub/Deep-Learning/Laboratorio6/lab6-2.ipynb#W1sZmlsZQ%3D%3D?line=1'>2</a>\u001b[0m \u001b[39mimport\u001b[39;00m \u001b[39mpandas\u001b[39;00m \u001b[39mas\u001b[39;00m \u001b[39mpd\u001b[39;00m\n\u001b[1;32m----> <a href='vscode-notebook-cell:/c%3A/Users/rjmom/OneDrive/Documentos/GitHub/Deep-Learning/Laboratorio6/lab6-2.ipynb#W1sZmlsZQ%3D%3D?line=2'>3</a>\u001b[0m \u001b[39mfrom\u001b[39;00m \u001b[39mscikit\u001b[39;00m\u001b[39m.\u001b[39;00m\u001b[39msurprise\u001b[39;00m \u001b[39mimport\u001b[39;00m accuracy\n\u001b[0;32m      <a href='vscode-notebook-cell:/c%3A/Users/rjmom/OneDrive/Documentos/GitHub/Deep-Learning/Laboratorio6/lab6-2.ipynb#W1sZmlsZQ%3D%3D?line=3'>4</a>\u001b[0m \u001b[39mfrom\u001b[39;00m \u001b[39msurprise\u001b[39;00m \u001b[39mimport\u001b[39;00m Dataset, Reader, KNNBasic\n\u001b[0;32m      <a href='vscode-notebook-cell:/c%3A/Users/rjmom/OneDrive/Documentos/GitHub/Deep-Learning/Laboratorio6/lab6-2.ipynb#W1sZmlsZQ%3D%3D?line=4'>5</a>\u001b[0m \u001b[39mfrom\u001b[39;00m \u001b[39msurprise\u001b[39;00m\u001b[39m.\u001b[39;00m\u001b[39mmodel_selection\u001b[39;00m \u001b[39mimport\u001b[39;00m train_test_split\n",
      "\u001b[1;31mModuleNotFoundError\u001b[0m: No module named 'scikit'"
     ]
    }
   ],
   "source": [
    "# importar ibrerias\n"
   ]
  }
 ],
 "metadata": {
  "kernelspec": {
   "display_name": "Python 3",
   "language": "python",
   "name": "python3"
  },
  "language_info": {
   "codemirror_mode": {
    "name": "ipython",
    "version": 3
   },
   "file_extension": ".py",
   "mimetype": "text/x-python",
   "name": "python",
   "nbconvert_exporter": "python",
   "pygments_lexer": "ipython3",
   "version": "3.11.4"
  }
 },
 "nbformat": 4,
 "nbformat_minor": 2
}
